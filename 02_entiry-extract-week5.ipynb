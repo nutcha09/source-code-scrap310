{
 "cells": [
  {
   "cell_type": "code",
   "execution_count": null,
   "id": "8857d7fe",
   "metadata": {},
   "outputs": [],
   "source": [
    "from dsmlibrary.datanode import DataNode\n",
    "import json\n",
    "from tqdm.auto import tqdm\n",
    "import pandas as pd"
   ]
  },
  {
   "cell_type": "code",
   "execution_count": null,
   "id": "24383934",
   "metadata": {},
   "outputs": [],
   "source": [
    "dir_raw_id = 66\n",
    "dir_process_id = 67"
   ]
  },
  {
   "cell_type": "code",
   "execution_count": null,
   "id": "67ddce87",
   "metadata": {},
   "outputs": [],
   "source": [
    "datanode = DataNode()"
   ]
  },
  {
   "cell_type": "code",
   "execution_count": null,
   "id": "21225dfe",
   "metadata": {},
   "outputs": [],
   "source": [
    "meta, fp = datanode.get_file(datanode.get_file_id(directory_id=dir_raw_id, name='ข่าวทำร้ายร่างกาย.csv'))\n",
    "meta"
   ]
  },
  {
   "cell_type": "code",
   "execution_count": null,
   "id": "a0ffd1e4",
   "metadata": {},
   "outputs": [],
   "source": [
    "data = pd.read_csv('ข่าวทำร้ายร่างกาย.csv')\n",
    "data"
   ]
  },
  {
   "cell_type": "code",
   "execution_count": null,
   "id": "49465a8e",
   "metadata": {},
   "outputs": [],
   "source": [
    "data = data.drop(['column'], axis=1)"
   ]
  },
  {
   "cell_type": "code",
   "execution_count": null,
   "id": "e338e1fd",
   "metadata": {},
   "outputs": [],
   "source": [
    "datanode.write(df=data, directory=dir_process_id, name=\"ข่าวทำร้ายร่างกายปี2022\", profiling=True, lineage=[datanode.get_file_id(directory_id=dir_raw_id, name='ข่าวทำร้ายร่างกายปี2022.csv')])"
   ]
  }
 ],
 "metadata": {
  "kernelspec": {
   "display_name": "Python 3 (ipykernel)",
   "language": "python",
   "name": "python3"
  },
  "language_info": {
   "codemirror_mode": {
    "name": "ipython",
    "version": 3
   },
   "file_extension": ".py",
   "mimetype": "text/x-python",
   "name": "python",
   "nbconvert_exporter": "python",
   "pygments_lexer": "ipython3",
   "version": "3.8.3"
  }
 },
 "nbformat": 4,
 "nbformat_minor": 5
}
