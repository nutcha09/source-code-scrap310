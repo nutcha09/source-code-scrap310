{
 "cells": [
  {
   "cell_type": "code",
   "execution_count": 2,
   "id": "c3e369a1-80c6-4513-8346-8cdad64ad012",
   "metadata": {},
   "outputs": [],
   "source": [
    "import bs4\n",
    "import requests\n",
    "import pandas as pd\n",
    "import re"
   ]
  },
  {
   "cell_type": "code",
   "execution_count": 3,
   "id": "01f709ad-c709-46e6-ae76-a935166f77d6",
   "metadata": {},
   "outputs": [
    {
     "name": "stdout",
     "output_type": "stream",
     "text": [
      "Complete page number: 61\n",
      "Complete page number: 62\n",
      "Complete page number: 63\n",
      "Complete page number: 64\n",
      "Complete page number: 65\n",
      "Complete page number: 66\n",
      "Complete page number: 67\n",
      "Complete page number: 68\n",
      "Complete page number: 69\n",
      "Complete page number: 70\n",
      "Complete page number: 71\n",
      "Complete page number: 72\n",
      "Complete page number: 73\n",
      "Complete page number: 74\n",
      "Complete page number: 75\n",
      "Complete page number: 76\n",
      "Complete page number: 77\n",
      "Complete page number: 78\n",
      "Complete page number: 79\n",
      "Complete page number: 80\n",
      "Complete page number: 81\n",
      "Complete page number: 82\n",
      "Complete page number: 83\n",
      "Complete page number: 84\n",
      "Complete page number: 85\n",
      "Complete page number: 86\n",
      "Complete page number: 87\n",
      "Complete page number: 88\n",
      "Complete page number: 89\n",
      "Complete page number: 90\n",
      "Complete page number: 91\n",
      "Complete page number: 92\n",
      "Complete page number: 93\n",
      "Complete page number: 94\n",
      "Complete page number: 95\n",
      "Complete page number: 96\n",
      "Complete page number: 97\n",
      "Complete page number: 98\n",
      "Complete page number: 99\n",
      "Complete page number: 100\n",
      "Complete page number: 101\n",
      "Complete page number: 102\n",
      "Complete page number: 103\n",
      "Complete page number: 104\n",
      "Complete page number: 105\n",
      "Complete page number: 106\n"
     ]
    },
    {
     "data": {
      "text/html": [
       "<div>\n",
       "<style scoped>\n",
       "    .dataframe tbody tr th:only-of-type {\n",
       "        vertical-align: middle;\n",
       "    }\n",
       "\n",
       "    .dataframe tbody tr th {\n",
       "        vertical-align: top;\n",
       "    }\n",
       "\n",
       "    .dataframe thead th {\n",
       "        text-align: right;\n",
       "    }\n",
       "</style>\n",
       "<table border=\"1\" class=\"dataframe\">\n",
       "  <thead>\n",
       "    <tr style=\"text-align: right;\">\n",
       "      <th></th>\n",
       "      <th>Description</th>\n",
       "      <th>Date</th>\n",
       "    </tr>\n",
       "    <tr>\n",
       "      <th>Topic</th>\n",
       "      <th></th>\n",
       "      <th></th>\n",
       "    </tr>\n",
       "  </thead>\n",
       "  <tbody>\n",
       "    <tr>\n",
       "      <th>มาร์คัส แรชฟอร์ด จากวันที่ไม่มีขนมปังสักก้อน สู่การเป็นฮีโร่ของคนอังกฤษ</th>\n",
       "      <td>ในขวบปีที่มืดมนอนธการของมนุษยชาติ หนึ่งในประกา...</td>\n",
       "      <td>22 ธันวาคม 2020</td>\n",
       "    </tr>\n",
       "    <tr>\n",
       "      <th>ตั๊น จิตภัสร์ ประชาธิปัตย์ นำทีม กมธ. ตำรวจ ลงใต้เยี่ยมจุดตรวจบริการนักท่องเที่ยวเขาหลักช่วงปีใหม่</th>\n",
       "      <td>วานนี้ (18 ธันวาคม) จิตภัสร์ ตั๊น กฤดากร ส.ส. ...</td>\n",
       "      <td>19 ธันวาคม 2020</td>\n",
       "    </tr>\n",
       "    <tr>\n",
       "      <th>พบเรือปริศนาขนโคเคนล็อตใหญ่ถูกพัดขึ้นฝั่งหมู่เกาะมาร์แชลล์ แต่ไร้เงาผู้โดยสาร</th>\n",
       "      <td>สัปดาห์ที่แล้ว ชาวบ้านรายหนึ่งที่อาศัยอยู่ในบร...</td>\n",
       "      <td>17 ธันวาคม 2020</td>\n",
       "    </tr>\n",
       "    <tr>\n",
       "      <th>สมศักดิ์เชื่อ กระบวนการปลดล็อกกระท่อมอีก 6 เดือนเสร็จ ชี้ทุกอย่างต้องมีกรอบ ปล่อยฟรีสไตล์ไม่ได้</th>\n",
       "      <td>วันนี้ (1 ธันวาคม) สมศักดิ์ เทพสุทิน รัฐมนตรีว...</td>\n",
       "      <td>1 ธันวาคม 2020</td>\n",
       "    </tr>\n",
       "    <tr>\n",
       "      <th>ทางการฝรั่งเศสสั่งพักงานเจ้าหน้าที่ตำรวจที่รุมตีชายผิวสีขณะเข้าจับกุม โดยยังไม่ทราบสาเหตุแน่ชัด</th>\n",
       "      <td>วันนี้ (27 พฤศจิกายน) เจอฮัลด์ ดาร์มานอง รัฐมน...</td>\n",
       "      <td>27 พฤศจิกายน 2020</td>\n",
       "    </tr>\n",
       "    <tr>\n",
       "      <th>...</th>\n",
       "      <td>...</td>\n",
       "      <td>...</td>\n",
       "    </tr>\n",
       "    <tr>\n",
       "      <th>เปิดกล่องไปรษณีย์ที่มีระเบิด ปืน และยาบ้า ทำไมตำรวจถึงรู้ และไปรษณีย์ไทยรับมืออย่างไร</th>\n",
       "      <td>29 พฤษภาคมที่ผ่านมา ตำรวจสายตรวจและปฏิบัต...</td>\n",
       "      <td>7 มิถุนายน 2017</td>\n",
       "    </tr>\n",
       "    <tr>\n",
       "      <th>23 ปี Trainspotting ถึง T2 ทำไมหนังวัยรุ่นขี้ยาเกาะอังกฤษ ถึงเป็นตำนานของยุค 90s</th>\n",
       "      <td>T2 Trainspotting เข้าฉายแล้วเฉพาะที่เฮ้าส์ อาร...</td>\n",
       "      <td>6 มิถุนายน 2017</td>\n",
       "    </tr>\n",
       "    <tr>\n",
       "      <th>กรณีศึกษาของข่าว ‘เปรี้ยว’ เหตุใดผู้ต้องหาถึงกลายเป็นเน็ตไอดอล?</th>\n",
       "      <td>นาทีนี้คงไม่มีข่าวใดแย่งพื้นที่สื่อไปได้ม...</td>\n",
       "      <td>5 มิถุนายน 2017</td>\n",
       "    </tr>\n",
       "    <tr>\n",
       "      <th>คุยกับครอบครัว ‘พูนพิริยะ’ เลี้ยงลูกอย่างไรให้เป็นผู้กำกับร้อยล้านและนางเอกรางวัลสุพรรณหงส์</th>\n",
       "      <td>ถ้าใครชอบดูหนังที่มีพล็อตหรือฉากหลังเกี่ย...</td>\n",
       "      <td>5 มิถุนายน 2017</td>\n",
       "    </tr>\n",
       "    <tr>\n",
       "      <th>ป้อน ‘ยาขม’ ให้รัฐบาลเพื่อก้าวสู่ไทยแลนด์ 4.0 กับณภัทร จาตุศรีพิทักษ์</th>\n",
       "      <td>นโยบายไทยแลนด์ 4.0 ยังคงเป็นที่วิพากษ์วิจ...</td>\n",
       "      <td>5 มิถุนายน 2017</td>\n",
       "    </tr>\n",
       "  </tbody>\n",
       "</table>\n",
       "<p>457 rows × 2 columns</p>\n",
       "</div>"
      ],
      "text/plain": [
       "                                                                                          Description  \\\n",
       "Topic                                                                                                   \n",
       "มาร์คัส แรชฟอร์ด จากวันที่ไม่มีขนมปังสักก้อน สู...  ในขวบปีที่มืดมนอนธการของมนุษยชาติ หนึ่งในประกา...   \n",
       "ตั๊น จิตภัสร์ ประชาธิปัตย์ นำทีม กมธ. ตำรวจ ลงใ...  วานนี้ (18 ธันวาคม) จิตภัสร์ ตั๊น กฤดากร ส.ส. ...   \n",
       "พบเรือปริศนาขนโคเคนล็อตใหญ่ถูกพัดขึ้นฝั่งหมู่เก...  สัปดาห์ที่แล้ว ชาวบ้านรายหนึ่งที่อาศัยอยู่ในบร...   \n",
       "สมศักดิ์เชื่อ กระบวนการปลดล็อกกระท่อมอีก 6 เดือ...  วันนี้ (1 ธันวาคม) สมศักดิ์ เทพสุทิน รัฐมนตรีว...   \n",
       "ทางการฝรั่งเศสสั่งพักงานเจ้าหน้าที่ตำรวจที่รุมต...  วันนี้ (27 พฤศจิกายน) เจอฮัลด์ ดาร์มานอง รัฐมน...   \n",
       "...                                                                                               ...   \n",
       "เปิดกล่องไปรษณีย์ที่มีระเบิด ปืน และยาบ้า ทำไมต...       29 พฤษภาคมที่ผ่านมา ตำรวจสายตรวจและปฏิบัต...   \n",
       "23 ปี Trainspotting ถึง T2 ทำไมหนังวัยรุ่นขี้ยา...  T2 Trainspotting เข้าฉายแล้วเฉพาะที่เฮ้าส์ อาร...   \n",
       "กรณีศึกษาของข่าว ‘เปรี้ยว’ เหตุใดผู้ต้องหาถึงกล...       นาทีนี้คงไม่มีข่าวใดแย่งพื้นที่สื่อไปได้ม...   \n",
       "คุยกับครอบครัว ‘พูนพิริยะ’ เลี้ยงลูกอย่างไรให้เ...       ถ้าใครชอบดูหนังที่มีพล็อตหรือฉากหลังเกี่ย...   \n",
       "ป้อน ‘ยาขม’ ให้รัฐบาลเพื่อก้าวสู่ไทยแลนด์ 4.0 ก...       นโยบายไทยแลนด์ 4.0 ยังคงเป็นที่วิพากษ์วิจ...   \n",
       "\n",
       "                                                                  Date  \n",
       "Topic                                                                   \n",
       "มาร์คัส แรชฟอร์ด จากวันที่ไม่มีขนมปังสักก้อน สู...    22 ธันวาคม 2020   \n",
       "ตั๊น จิตภัสร์ ประชาธิปัตย์ นำทีม กมธ. ตำรวจ ลงใ...    19 ธันวาคม 2020   \n",
       "พบเรือปริศนาขนโคเคนล็อตใหญ่ถูกพัดขึ้นฝั่งหมู่เก...    17 ธันวาคม 2020   \n",
       "สมศักดิ์เชื่อ กระบวนการปลดล็อกกระท่อมอีก 6 เดือ...     1 ธันวาคม 2020   \n",
       "ทางการฝรั่งเศสสั่งพักงานเจ้าหน้าที่ตำรวจที่รุมต...  27 พฤศจิกายน 2020   \n",
       "...                                                                ...  \n",
       "เปิดกล่องไปรษณีย์ที่มีระเบิด ปืน และยาบ้า ทำไมต...    7 มิถุนายน 2017   \n",
       "23 ปี Trainspotting ถึง T2 ทำไมหนังวัยรุ่นขี้ยา...    6 มิถุนายน 2017   \n",
       "กรณีศึกษาของข่าว ‘เปรี้ยว’ เหตุใดผู้ต้องหาถึงกล...    5 มิถุนายน 2017   \n",
       "คุยกับครอบครัว ‘พูนพิริยะ’ เลี้ยงลูกอย่างไรให้เ...    5 มิถุนายน 2017   \n",
       "ป้อน ‘ยาขม’ ให้รัฐบาลเพื่อก้าวสู่ไทยแลนด์ 4.0 ก...    5 มิถุนายน 2017   \n",
       "\n",
       "[457 rows x 2 columns]"
      ]
     },
     "execution_count": 3,
     "metadata": {},
     "output_type": "execute_result"
    }
   ],
   "source": [
    "i_page = 61\n",
    "Topic_list = []\n",
    "Description_list = []\n",
    "Date_list = []\n",
    "while i_page <= 106:\n",
    "    data = requests.get(f'https://thestandard.co/page/{i_page}/?s=%E0%B8%A2%E0%B8%B2%E0%B9%80%E0%B8%AA%E0%B8%9E%E0%B8%95%E0%B8%B4%E0%B8%94&search')\n",
    "    soup = bs4.BeautifulSoup(data.text)\n",
    "    for i in soup.find_all('div',{'class':'caption'}):\n",
    "        Topic_list.append(i.find('h3',{'class':'news-title'}).text.replace('\\n',''))\n",
    "        Description_list.append(i.find('div',{'class':'desc'}).text.replace('\\n',''))                 \n",
    "        Date_list.append(i.find('div',{'class':'date'}).text.replace('\\n',''))\n",
    "    print('Complete page number:',i_page)\n",
    "    i_page += 1 \n",
    "table = pd.DataFrame([Topic_list,Description_list,Date_list]).transpose()\n",
    "table.columns = ['Topic','Description','Date']  \n",
    "table.set_index('Topic')"
   ]
  },
  {
   "cell_type": "code",
   "execution_count": 4,
   "id": "ca7aa060-dcb4-429d-afb3-73ea72748ea3",
   "metadata": {},
   "outputs": [],
   "source": [
    "from dsmlibrary.datanode import DataNode"
   ]
  },
  {
   "cell_type": "code",
   "execution_count": 5,
   "id": "0222c9e9-4af0-4abf-9f4f-76b096f0e083",
   "metadata": {},
   "outputs": [],
   "source": [
    "dir_raw_id = 66"
   ]
  },
  {
   "cell_type": "code",
   "execution_count": 6,
   "id": "0454c913-43e2-4eaa-a16e-939dc0bcc930",
   "metadata": {},
   "outputs": [
    {
     "name": "stdout",
     "output_type": "stream",
     "text": [
      "Init DataNode sucessful!\n"
     ]
    }
   ],
   "source": [
    "datanode = DataNode()"
   ]
  },
  {
   "cell_type": "code",
   "execution_count": null,
   "id": "e27f8803-54d6-4dbd-9dcd-75c30544ff0b",
   "metadata": {},
   "outputs": [],
   "source": [
    "datanode.upload_file(directory_id=dir_raw_id, file_path='ข่าวยาเสพติด2561-2563.csv')"
   ]
  },
  {
   "cell_type": "code",
   "execution_count": null,
   "id": "20f566fd-94be-4d14-9ac3-e0e1a733f808",
   "metadata": {},
   "outputs": [],
   "source": []
  }
 ],
 "metadata": {
  "kernelspec": {
   "display_name": "Python 3 (ipykernel)",
   "language": "python",
   "name": "python3"
  },
  "language_info": {
   "codemirror_mode": {
    "name": "ipython",
    "version": 3
   },
   "file_extension": ".py",
   "mimetype": "text/x-python",
   "name": "python",
   "nbconvert_exporter": "python",
   "pygments_lexer": "ipython3",
   "version": "3.10.5"
  }
 },
 "nbformat": 4,
 "nbformat_minor": 5
}
