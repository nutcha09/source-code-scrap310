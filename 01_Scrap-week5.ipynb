{
 "cells": [
  {
   "cell_type": "code",
   "execution_count": null,
   "id": "03095883",
   "metadata": {},
   "outputs": [],
   "source": [
    "import bs4\n",
    "import requests\n",
    "import pandas as pd\n",
    "import re"
   ]
  },
  {
   "cell_type": "code",
   "execution_count": null,
   "id": "41c35125",
   "metadata": {},
   "outputs": [],
   "source": [
    "page = 1\n",
    "topic_list = []\n",
    "description_list = []\n",
    "date_list = []\n",
    "while page <= 44 :\n",
    "    data = requests.get('https://thestandard.co/?s=%E0%B8%97%E0%B8%B3%E0%B8%A3%E0%B9%89%E0%B8%B2%E0%B8%A2%E0%B8%A3%E0%B9%88%E0%B8%B2%E0%B8%87%E0%B8%81%E0%B8%B2%E0%B8%A2&search=' + str(page))\n",
    "    soup = bs4.BeautifulSoup(data.text)\n",
    "    for n in soup.find_all('div',{'class':'news-item'}):\n",
    "        topic_list.append(n.find('h3',{'class':'news-title'}).text.strip().replace('\\u200b',''))\n",
    "        description_list.append(n.find('div',{'class':'desc'}).text.strip().replace('\\u200b',''))\n",
    "        date_list.append(n.find('div',{'class':'date'}).text.strip())\n",
    "    print('Complete page number: ',page)\n",
    "    page += 1\n",
    "table = pd.DataFrame([topic_list,description_list,date_list]).transpose()\n",
    "table.columns = ['topic','description','date']\n",
    "table.set_index('topic')"
   ]
  },
  {
   "cell_type": "code",
   "execution_count": null,
   "id": "f1f6d6cb",
   "metadata": {},
   "outputs": [],
   "source": [
    "from dsmlibrary.datanode import DataNode"
   ]
  },
  {
   "cell_type": "code",
   "execution_count": null,
   "id": "ef8c57bb",
   "metadata": {},
   "outputs": [],
   "source": [
    "dir_raw_id = 66"
   ]
  },
  {
   "cell_type": "code",
   "execution_count": null,
   "id": "cd96dd6f",
   "metadata": {},
   "outputs": [],
   "source": [
    "datanode = DataNode()"
   ]
  },
  {
   "cell_type": "code",
   "execution_count": null,
   "id": "678cb19c",
   "metadata": {},
   "outputs": [],
   "source": [
    "datanode.upload_file(directory_id=dir_raw_id, file_path='ข่าวทำร้ายร่างกาย.csv')"
   ]
  }
 ],
 "metadata": {
  "kernelspec": {
   "display_name": "Python 3 (ipykernel)",
   "language": "python",
   "name": "python3"
  },
  "language_info": {
   "codemirror_mode": {
    "name": "ipython",
    "version": 3
   },
   "file_extension": ".py",
   "mimetype": "text/x-python",
   "name": "python",
   "nbconvert_exporter": "python",
   "pygments_lexer": "ipython3",
   "version": "3.8.3"
  }
 },
 "nbformat": 4,
 "nbformat_minor": 5
}
