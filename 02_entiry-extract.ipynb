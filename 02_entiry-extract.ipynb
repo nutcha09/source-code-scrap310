{
 "cells": [
  {
   "cell_type": "code",
   "execution_count": null,
   "id": "dc025891-233e-4d43-9971-06f9257f6760",
   "metadata": {},
   "outputs": [],
   "source": [
    "!pip install transformers torch\n",
    "!pip install sentencepiece"
   ]
  },
  {
   "cell_type": "code",
   "execution_count": null,
   "id": "667a65ae-28fc-418c-b0c9-14b717f837cc",
   "metadata": {},
   "outputs": [],
   "source": [
    "from dsmlibrary.datanode import DataNode\n",
    "import json\n",
    "from tqdm.auto import tqdm\n",
    "import pandas as pd"
   ]
  },
  {
   "cell_type": "code",
   "execution_count": null,
   "id": "14591f0d-aac1-4520-b07e-fea7e40218d2",
   "metadata": {},
   "outputs": [],
   "source": [
    "dir_rawData_id = 66\n",
    "dir_processData_id = 67"
   ]
  },
  {
   "cell_type": "code",
   "execution_count": null,
   "id": "85135091-508b-489f-903e-f482aeb06fef",
   "metadata": {},
   "outputs": [],
   "source": [
    "datanode = DataNode()"
   ]
  },
  {
   "cell_type": "code",
   "execution_count": null,
   "id": "96a2fd02-8de0-444a-8cd1-b6487c19ffef",
   "metadata": {},
   "outputs": [],
   "source": [
    "meta, fp = datanode.get_file(datanode.get_file_id(directory_id=dir_rawData_id, name='Temp.json'))\n",
    "meta"
   ]
  },
  {
   "cell_type": "code",
   "execution_count": null,
   "id": "a44c32a2-8bc5-40cf-9d74-bb5961b7f7ed",
   "metadata": {},
   "outputs": [],
   "source": [
    "data = json.load(fp)\n",
    "data"
   ]
  },
  {
   "cell_type": "code",
   "execution_count": null,
   "id": "3e76c179-4d2b-486e-9840-a276deefbd21",
   "metadata": {},
   "outputs": [],
   "source": [
    "from transformers import AutoTokenizer, AutoModelForTokenClassification\n",
    "from transformers import pipeline"
   ]
  },
  {
   "cell_type": "code",
   "execution_count": null,
   "id": "96fccf3c-63e3-46f0-b992-09158b25e514",
   "metadata": {},
   "outputs": [],
   "source": [
    "tokenizer = AutoTokenizer.from_pretrained(\"Davlan/xlm-roberta-base-ner-hrl\")\n",
    "model = AutoModelForTokenClassification.from_pretrained(\"Davlan/xlm-roberta-base-ner-hrl\")\n",
    "nlp = pipeline(\"ner\", model=model, tokenizer=tokenizer)"
   ]
  },
  {
   "cell_type": "code",
   "execution_count": null,
   "id": "50d5ad7f-9a58-4952-844c-396d0a86c724",
   "metadata": {},
   "outputs": [],
   "source": [
    "example = \"My name is Wolfgang and I live in Berlin\"\n",
    "\n",
    "ner_results = nlp(example)\n",
    "print(ner_results)"
   ]
  },
  {
   "cell_type": "code",
   "execution_count": null,
   "id": "e55d3b1c-08b1-40d0-ba0c-377f7960b3c8",
   "metadata": {},
   "outputs": [],
   "source": [
    "def post_process(preds):\n",
    "    data = []\n",
    "    for i in range(len(preds)): \n",
    "        a = preds[i]\n",
    "        text = a.get('word')\n",
    "        for j in range(i, len(preds)):\n",
    "            b = preds[j]\n",
    "            if b.get('start') == a.get('end'):\n",
    "                text += b.get('word')\n",
    "                a = b\n",
    "        data.append({\n",
    "            'type': a.get('entity'),\n",
    "            'text': text\n",
    "        })\n",
    "    tmp = []\n",
    "    for elm in data:\n",
    "        text = elm.get('text')\n",
    "        if bool(re.match(\"[ก-๛]|▁\", text)):\n",
    "            elm.update({'text': text.replace('▁', ' ')})\n",
    "            tmp.append(elm)\n",
    "    return tmp"
   ]
  },
  {
   "cell_type": "code",
   "execution_count": null,
   "id": "b162cc5b-e859-4c65-a875-86ff7503c2d8",
   "metadata": {},
   "outputs": [],
   "source": [
    "df = pd.DataFrame(data)\n",
    "df"
   ]
  },
  {
   "cell_type": "code",
   "execution_count": null,
   "id": "02d12167-8dab-4a6e-ad58-f20a4ba284fb",
   "metadata": {},
   "outputs": [],
   "source": [
    "datanode.write(df=df, directory=dir_processData_id, name=\"data\", profiling=True, lineage=[datanode.get_file_id(directory_id=dir_rawData_id, name='Temp.json')])"
   ]
  },
  {
   "cell_type": "code",
   "execution_count": null,
   "id": "621d0112-e12a-41f6-a930-4a4db2554eaa",
   "metadata": {},
   "outputs": [],
   "source": []
  }
 ],
 "metadata": {
  "kernelspec": {
   "display_name": "Python 3",
   "language": "python",
   "name": "python3"
  },
  "language_info": {
   "codemirror_mode": {
    "name": "ipython",
    "version": 3
   },
   "file_extension": ".py",
   "mimetype": "text/x-python",
   "name": "python",
   "nbconvert_exporter": "python",
   "pygments_lexer": "ipython3",
   "version": "3.8.8"
  }
 },
 "nbformat": 4,
 "nbformat_minor": 5
}
