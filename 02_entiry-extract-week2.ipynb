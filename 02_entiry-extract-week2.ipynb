{
 "cells": [
  {
   "cell_type": "code",
   "execution_count": 1,
   "id": "3a939404-2a31-4953-98c1-17e5cbd9dba2",
   "metadata": {},
   "outputs": [],
   "source": [
    "from dsmlibrary.datanode import DataNode\n",
    "import json\n",
    "from tqdm.auto import tqdm\n",
    "import pandas as pd"
   ]
  },
  {
   "cell_type": "code",
   "execution_count": 2,
   "id": "956cf79f-c2c2-48eb-9f73-a6ab46502d09",
   "metadata": {},
   "outputs": [],
   "source": [
    "dir_raw_id = 66\n",
    "dir_process_id = 67"
   ]
  },
  {
   "cell_type": "code",
   "execution_count": 3,
   "id": "4084f955-bb43-4dd8-9742-ced627d3e974",
   "metadata": {},
   "outputs": [
    {
     "name": "stdout",
     "output_type": "stream",
     "text": [
      "Init DataNode sucessful!\n"
     ]
    }
   ],
   "source": [
    "datanode = DataNode()"
   ]
  },
  {
   "cell_type": "code",
   "execution_count": 5,
   "id": "f006e4ab-ec93-4eaa-94a5-111ea0f2ffbe",
   "metadata": {},
   "outputs": [
    {
     "data": {
      "text/plain": [
       "{'owner': 'nutcha',\n",
       " 'human_size': '29.97 KB',\n",
       " 'name': 'ข่าวอาชญากรรมไทยและต่างประเทศ.csv',\n",
       " 'description': 'file ข่าวอาชญากรรมไทยและต่างประเทศ.csv',\n",
       " 'directory': 66,\n",
       " 'path': 'nutcha/DSI310-11/rawData/ข่าวอาชญากรรมไทยและต่างประเทศ.csv'}"
      ]
     },
     "execution_count": 5,
     "metadata": {},
     "output_type": "execute_result"
    }
   ],
   "source": [
    "meta, fp = datanode.get_file(datanode.get_file_id(directory_id=dir_raw_id, name='ข่าวอาชญากรรมไทยและต่างประเทศ.csv'))\n",
    "meta"
   ]
  },
  {
   "cell_type": "code",
   "execution_count": 6,
   "id": "53bbf928-ffb9-441f-a2cf-a245405fbd05",
   "metadata": {},
   "outputs": [
    {
     "data": {
      "text/html": [
       "<div>\n",
       "<style scoped>\n",
       "    .dataframe tbody tr th:only-of-type {\n",
       "        vertical-align: middle;\n",
       "    }\n",
       "\n",
       "    .dataframe tbody tr th {\n",
       "        vertical-align: top;\n",
       "    }\n",
       "\n",
       "    .dataframe thead th {\n",
       "        text-align: right;\n",
       "    }\n",
       "</style>\n",
       "<table border=\"1\" class=\"dataframe\">\n",
       "  <thead>\n",
       "    <tr style=\"text-align: right;\">\n",
       "      <th></th>\n",
       "      <th>Unnamed: 0</th>\n",
       "      <th>topic</th>\n",
       "      <th>descrip</th>\n",
       "      <th>date</th>\n",
       "    </tr>\n",
       "  </thead>\n",
       "  <tbody>\n",
       "    <tr>\n",
       "      <th>0</th>\n",
       "      <td>1</td>\n",
       "      <td>Thailand's Youth Rebellion</td>\n",
       "      <td>For five months, young protesters in Thailand ...</td>\n",
       "      <td>15 January 2021</td>\n",
       "    </tr>\n",
       "    <tr>\n",
       "      <th>1</th>\n",
       "      <td>2</td>\n",
       "      <td>Thailand's Youth Rebellion</td>\n",
       "      <td>For five months, young protesters in Thailand ...</td>\n",
       "      <td>15 January 2021</td>\n",
       "    </tr>\n",
       "    <tr>\n",
       "      <th>2</th>\n",
       "      <td>5</td>\n",
       "      <td>Thailand warship capsizes during storm</td>\n",
       "      <td>Video from the Thai Navy shows the ship on its...</td>\n",
       "      <td>19 December</td>\n",
       "    </tr>\n",
       "    <tr>\n",
       "      <th>3</th>\n",
       "      <td>6</td>\n",
       "      <td>Thailand warship capsizes leaving 31 sailors m...</td>\n",
       "      <td>The navy is searching for survivors after the ...</td>\n",
       "      <td>19 December</td>\n",
       "    </tr>\n",
       "    <tr>\n",
       "      <th>4</th>\n",
       "      <td>7</td>\n",
       "      <td>Armagh man Odhran O'Neill dies in kayaking inc...</td>\n",
       "      <td>Odhran O'Neill from Lurgan was last seen on Sa...</td>\n",
       "      <td>18 December</td>\n",
       "    </tr>\n",
       "    <tr>\n",
       "      <th>...</th>\n",
       "      <td>...</td>\n",
       "      <td>...</td>\n",
       "      <td>...</td>\n",
       "      <td>...</td>\n",
       "    </tr>\n",
       "    <tr>\n",
       "      <th>179</th>\n",
       "      <td>262</td>\n",
       "      <td>Ben Davis: Oxford United sign Thailand youth m...</td>\n",
       "      <td>Oxford United sign Thailand youth internationa...</td>\n",
       "      <td>31 August 2021</td>\n",
       "    </tr>\n",
       "    <tr>\n",
       "      <th>180</th>\n",
       "      <td>263</td>\n",
       "      <td>Cumbria Police enlist volunteer horse riders t...</td>\n",
       "      <td>The six volunteers will work during the day to...</td>\n",
       "      <td>17 November</td>\n",
       "    </tr>\n",
       "    <tr>\n",
       "      <th>181</th>\n",
       "      <td>264</td>\n",
       "      <td>Blue Diamond Affair: Saudis end dispute with T...</td>\n",
       "      <td>Diplomatic ties resume after a 30-year row ove...</td>\n",
       "      <td>26 January</td>\n",
       "    </tr>\n",
       "    <tr>\n",
       "      <th>182</th>\n",
       "      <td>265</td>\n",
       "      <td>MotoGP: Thailand Grand Prix cancelled, Dani Pe...</td>\n",
       "      <td>MotoGP's Thailand Grand Prix is cancelled afte...</td>\n",
       "      <td>21 July 2021</td>\n",
       "    </tr>\n",
       "    <tr>\n",
       "      <th>183</th>\n",
       "      <td>266</td>\n",
       "      <td>Thailand deaths: Police have 'number of suspects'</td>\n",
       "      <td>Police investigating the deaths of two Britons...</td>\n",
       "      <td>16 September 2014</td>\n",
       "    </tr>\n",
       "  </tbody>\n",
       "</table>\n",
       "<p>184 rows × 4 columns</p>\n",
       "</div>"
      ],
      "text/plain": [
       "     Unnamed: 0                                              topic  \\\n",
       "0             1                         Thailand's Youth Rebellion   \n",
       "1             2                         Thailand's Youth Rebellion   \n",
       "2             5             Thailand warship capsizes during storm   \n",
       "3             6  Thailand warship capsizes leaving 31 sailors m...   \n",
       "4             7  Armagh man Odhran O'Neill dies in kayaking inc...   \n",
       "..          ...                                                ...   \n",
       "179         262  Ben Davis: Oxford United sign Thailand youth m...   \n",
       "180         263  Cumbria Police enlist volunteer horse riders t...   \n",
       "181         264  Blue Diamond Affair: Saudis end dispute with T...   \n",
       "182         265  MotoGP: Thailand Grand Prix cancelled, Dani Pe...   \n",
       "183         266  Thailand deaths: Police have 'number of suspects'   \n",
       "\n",
       "                                               descrip               date  \n",
       "0    For five months, young protesters in Thailand ...    15 January 2021  \n",
       "1    For five months, young protesters in Thailand ...    15 January 2021  \n",
       "2    Video from the Thai Navy shows the ship on its...        19 December  \n",
       "3    The navy is searching for survivors after the ...        19 December  \n",
       "4    Odhran O'Neill from Lurgan was last seen on Sa...        18 December  \n",
       "..                                                 ...                ...  \n",
       "179  Oxford United sign Thailand youth internationa...     31 August 2021  \n",
       "180  The six volunteers will work during the day to...        17 November  \n",
       "181  Diplomatic ties resume after a 30-year row ove...         26 January  \n",
       "182  MotoGP's Thailand Grand Prix is cancelled afte...       21 July 2021  \n",
       "183  Police investigating the deaths of two Britons...  16 September 2014  \n",
       "\n",
       "[184 rows x 4 columns]"
      ]
     },
     "execution_count": 6,
     "metadata": {},
     "output_type": "execute_result"
    }
   ],
   "source": [
    "data = pd.read_csv('ข่าวอาชญากรรมไทยและต่างประเทศ.csv')\n",
    "data"
   ]
  },
  {
   "cell_type": "code",
   "execution_count": 7,
   "id": "d10895fa-6e6c-4ba6-acc6-ea41775179e8",
   "metadata": {},
   "outputs": [],
   "source": [
    "data = data.drop(['Unnamed: 0'], axis=1)"
   ]
  },
  {
   "cell_type": "code",
   "execution_count": 9,
   "id": "4e8f66d2-4e15-486d-a149-1e9b2cc3b6e5",
   "metadata": {},
   "outputs": [
    {
     "data": {
      "text/html": [
       "<div>\n",
       "<style scoped>\n",
       "    .dataframe tbody tr th:only-of-type {\n",
       "        vertical-align: middle;\n",
       "    }\n",
       "\n",
       "    .dataframe tbody tr th {\n",
       "        vertical-align: top;\n",
       "    }\n",
       "\n",
       "    .dataframe thead th {\n",
       "        text-align: right;\n",
       "    }\n",
       "</style>\n",
       "<table border=\"1\" class=\"dataframe\">\n",
       "  <thead>\n",
       "    <tr style=\"text-align: right;\">\n",
       "      <th></th>\n",
       "      <th>topic</th>\n",
       "      <th>descrip</th>\n",
       "      <th>date</th>\n",
       "    </tr>\n",
       "  </thead>\n",
       "  <tbody>\n",
       "    <tr>\n",
       "      <th>0</th>\n",
       "      <td>Thailand's Youth Rebellion</td>\n",
       "      <td>For five months, young protesters in Thailand ...</td>\n",
       "      <td>15 January 2021</td>\n",
       "    </tr>\n",
       "    <tr>\n",
       "      <th>1</th>\n",
       "      <td>Thailand's Youth Rebellion</td>\n",
       "      <td>For five months, young protesters in Thailand ...</td>\n",
       "      <td>15 January 2021</td>\n",
       "    </tr>\n",
       "    <tr>\n",
       "      <th>2</th>\n",
       "      <td>Thailand warship capsizes during storm</td>\n",
       "      <td>Video from the Thai Navy shows the ship on its...</td>\n",
       "      <td>19 December</td>\n",
       "    </tr>\n",
       "    <tr>\n",
       "      <th>3</th>\n",
       "      <td>Thailand warship capsizes leaving 31 sailors m...</td>\n",
       "      <td>The navy is searching for survivors after the ...</td>\n",
       "      <td>19 December</td>\n",
       "    </tr>\n",
       "    <tr>\n",
       "      <th>4</th>\n",
       "      <td>Armagh man Odhran O'Neill dies in kayaking inc...</td>\n",
       "      <td>Odhran O'Neill from Lurgan was last seen on Sa...</td>\n",
       "      <td>18 December</td>\n",
       "    </tr>\n",
       "    <tr>\n",
       "      <th>...</th>\n",
       "      <td>...</td>\n",
       "      <td>...</td>\n",
       "      <td>...</td>\n",
       "    </tr>\n",
       "    <tr>\n",
       "      <th>179</th>\n",
       "      <td>Ben Davis: Oxford United sign Thailand youth m...</td>\n",
       "      <td>Oxford United sign Thailand youth internationa...</td>\n",
       "      <td>31 August 2021</td>\n",
       "    </tr>\n",
       "    <tr>\n",
       "      <th>180</th>\n",
       "      <td>Cumbria Police enlist volunteer horse riders t...</td>\n",
       "      <td>The six volunteers will work during the day to...</td>\n",
       "      <td>17 November</td>\n",
       "    </tr>\n",
       "    <tr>\n",
       "      <th>181</th>\n",
       "      <td>Blue Diamond Affair: Saudis end dispute with T...</td>\n",
       "      <td>Diplomatic ties resume after a 30-year row ove...</td>\n",
       "      <td>26 January</td>\n",
       "    </tr>\n",
       "    <tr>\n",
       "      <th>182</th>\n",
       "      <td>MotoGP: Thailand Grand Prix cancelled, Dani Pe...</td>\n",
       "      <td>MotoGP's Thailand Grand Prix is cancelled afte...</td>\n",
       "      <td>21 July 2021</td>\n",
       "    </tr>\n",
       "    <tr>\n",
       "      <th>183</th>\n",
       "      <td>Thailand deaths: Police have 'number of suspects'</td>\n",
       "      <td>Police investigating the deaths of two Britons...</td>\n",
       "      <td>16 September 2014</td>\n",
       "    </tr>\n",
       "  </tbody>\n",
       "</table>\n",
       "<p>184 rows × 3 columns</p>\n",
       "</div>"
      ],
      "text/plain": [
       "                                                 topic  \\\n",
       "0                           Thailand's Youth Rebellion   \n",
       "1                           Thailand's Youth Rebellion   \n",
       "2               Thailand warship capsizes during storm   \n",
       "3    Thailand warship capsizes leaving 31 sailors m...   \n",
       "4    Armagh man Odhran O'Neill dies in kayaking inc...   \n",
       "..                                                 ...   \n",
       "179  Ben Davis: Oxford United sign Thailand youth m...   \n",
       "180  Cumbria Police enlist volunteer horse riders t...   \n",
       "181  Blue Diamond Affair: Saudis end dispute with T...   \n",
       "182  MotoGP: Thailand Grand Prix cancelled, Dani Pe...   \n",
       "183  Thailand deaths: Police have 'number of suspects'   \n",
       "\n",
       "                                               descrip               date  \n",
       "0    For five months, young protesters in Thailand ...    15 January 2021  \n",
       "1    For five months, young protesters in Thailand ...    15 January 2021  \n",
       "2    Video from the Thai Navy shows the ship on its...        19 December  \n",
       "3    The navy is searching for survivors after the ...        19 December  \n",
       "4    Odhran O'Neill from Lurgan was last seen on Sa...        18 December  \n",
       "..                                                 ...                ...  \n",
       "179  Oxford United sign Thailand youth internationa...     31 August 2021  \n",
       "180  The six volunteers will work during the day to...        17 November  \n",
       "181  Diplomatic ties resume after a 30-year row ove...         26 January  \n",
       "182  MotoGP's Thailand Grand Prix is cancelled afte...       21 July 2021  \n",
       "183  Police investigating the deaths of two Britons...  16 September 2014  \n",
       "\n",
       "[184 rows x 3 columns]"
      ]
     },
     "execution_count": 9,
     "metadata": {},
     "output_type": "execute_result"
    }
   ],
   "source": [
    "data"
   ]
  },
  {
   "cell_type": "code",
   "execution_count": 10,
   "id": "ccb92679-6699-4f17-90f8-b559a8ccf571",
   "metadata": {},
   "outputs": [
    {
     "data": {
      "text/plain": [
       "{'sucess': True,\n",
       " 'file_id': 1057,\n",
       " 'path': 'nutcha/DSI310-11/processData/ข่าวอาชญากรรมไทยและต่างประเทศ.parquet',\n",
       " 'lineage': True}"
      ]
     },
     "execution_count": 10,
     "metadata": {},
     "output_type": "execute_result"
    }
   ],
   "source": [
    "datanode.write(df=data, directory=dir_process_id, name=\"ข่าวอาชญากรรมไทยและต่างประเทศ\", profiling=True, lineage=[datanode.get_file_id(directory_id=dir_raw_id, name='ข่าวอาชญากรรมไทยและต่างประเทศ.csv')])"
   ]
  },
  {
   "cell_type": "code",
   "execution_count": null,
   "id": "673c20b9-f7a3-457b-acc4-0e8f6fe4a2b6",
   "metadata": {},
   "outputs": [],
   "source": []
  }
 ],
 "metadata": {
  "kernelspec": {
   "display_name": "Python 3 (ipykernel)",
   "language": "python",
   "name": "python3"
  },
  "language_info": {
   "codemirror_mode": {
    "name": "ipython",
    "version": 3
   },
   "file_extension": ".py",
   "mimetype": "text/x-python",
   "name": "python",
   "nbconvert_exporter": "python",
   "pygments_lexer": "ipython3",
   "version": "3.10.5"
  }
 },
 "nbformat": 4,
 "nbformat_minor": 5
}
