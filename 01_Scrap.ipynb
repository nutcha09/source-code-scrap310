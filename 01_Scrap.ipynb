{
 "cells": [
  {
   "cell_type": "code",
   "execution_count": null,
   "id": "e533c928-ff8a-4a0b-8c58-3e571f51c1fc",
   "metadata": {},
   "outputs": [],
   "source": [
    "import requests\n",
    "import pandas as pd\n",
    "header = {\n",
    "    \"api-key\" : \"bz9prFPY9jkN9PzVfbrnMssigTZOuF4O\"\n",
    "}\n",
    "url = \"https://opend.data.go.th/get-ckan/datastore_search?resource_id=a5d00230-33c4-4872-b6e2-0e32ce96b97b&limit=50000\"\n",
    "response = requests.get(\n",
    "   url, \n",
    "   headers=header\n",
    ")\n",
    "print(response.json()['result']['records'])"
   ]
  },
  {
   "cell_type": "code",
   "execution_count": null,
   "id": "b5213f55-55e2-4513-b71d-0ce8ce74595f",
   "metadata": {},
   "outputs": [],
   "source": [
    "Temp = response.json()['result']['records']"
   ]
  },
  {
   "cell_type": "code",
   "execution_count": null,
   "id": "f5ec9105-2150-4ac4-b161-772ac7199b8c",
   "metadata": {},
   "outputs": [],
   "source": [
    "import requests\n",
    "from tqdm.auto import tqdm\n",
    "import json"
   ]
  },
  {
   "cell_type": "code",
   "execution_count": null,
   "id": "1296d067-b06f-4522-8c5f-66060dedeb4d",
   "metadata": {},
   "outputs": [],
   "source": [
    "dataTemp = pd.DataFrame(response.json()['result']['records'])\n",
    "dataTemp.to_csv('DataTemp.csv' , encoding=\"utf-8-sig\")"
   ]
  },
  {
   "cell_type": "code",
   "execution_count": null,
   "id": "539af84e-a98b-4ad4-b422-37b9114d08bf",
   "metadata": {},
   "outputs": [],
   "source": [
    "with open('Temp.json', 'w') as f:\n",
    "    json.dump(Temp, f)"
   ]
  },
  {
   "cell_type": "code",
   "execution_count": null,
   "id": "fc1bd800-9f97-48e3-bd16-f2c5d1ef7a00",
   "metadata": {},
   "outputs": [],
   "source": [
    "from dsmlibrary.datanode import DataNode"
   ]
  },
  {
   "cell_type": "code",
   "execution_count": null,
   "id": "4f75fe55-b961-495f-ba24-ac51935f595b",
   "metadata": {},
   "outputs": [],
   "source": [
    "dir_rawData_id = 66"
   ]
  },
  {
   "cell_type": "code",
   "execution_count": null,
   "id": "88228ac3-e1ff-400d-99c2-bf1285dd0323",
   "metadata": {},
   "outputs": [],
   "source": [
    "datanode = DataNode()"
   ]
  },
  {
   "cell_type": "code",
   "execution_count": null,
   "id": "de95965a-0904-4b4b-8417-6d2e50e5b7cd",
   "metadata": {},
   "outputs": [],
   "source": [
    "datanode.upload_file(directory_id=dir_rawData_id, file_path='Temp.json')"
   ]
  },
  {
   "cell_type": "code",
   "execution_count": null,
   "id": "0ec0ae81-dd76-46a7-b216-60f5973c5307",
   "metadata": {},
   "outputs": [],
   "source": []
  }
 ],
 "metadata": {
  "kernelspec": {
   "display_name": "Python 3",
   "language": "python",
   "name": "python3"
  },
  "language_info": {
   "codemirror_mode": {
    "name": "ipython",
    "version": 3
   },
   "file_extension": ".py",
   "mimetype": "text/x-python",
   "name": "python",
   "nbconvert_exporter": "python",
   "pygments_lexer": "ipython3",
   "version": "3.8.8"
  }
 },
 "nbformat": 4,
 "nbformat_minor": 5
}
