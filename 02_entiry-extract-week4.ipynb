{
 "cells": [
  {
   "cell_type": "code",
   "execution_count": 26,
   "id": "2d6691cd-04f5-42c9-8f26-033b5ffb607b",
   "metadata": {},
   "outputs": [],
   "source": [
    "from dsmlibrary.datanode import DataNode\n",
    "import json\n",
    "from tqdm.auto import tqdm\n",
    "import pandas as pd"
   ]
  },
  {
   "cell_type": "code",
   "execution_count": 27,
   "id": "bb28c186-e3f4-48c8-8c5d-34590a9c02e1",
   "metadata": {},
   "outputs": [],
   "source": [
    "dir_raw_id = 66\n",
    "dir_process_id = 67"
   ]
  },
  {
   "cell_type": "code",
   "execution_count": 28,
   "id": "57a93668-fe75-4623-821a-4ddfc77947f4",
   "metadata": {},
   "outputs": [
    {
     "name": "stdout",
     "output_type": "stream",
     "text": [
      "Init DataNode sucessful!\n"
     ]
    }
   ],
   "source": [
    "datanode = DataNode()"
   ]
  },
  {
   "cell_type": "code",
   "execution_count": 29,
   "id": "077967fc-202a-446d-8036-8ce17bec70b0",
   "metadata": {},
   "outputs": [
    {
     "data": {
      "text/plain": [
       "{'owner': 'nutcha',\n",
       " 'human_size': '541.46 KB',\n",
       " 'name': 'ข่าวยาเสพติด2561-2563.csv',\n",
       " 'description': 'file ข่าวยาเสพติด2561-2563.csv',\n",
       " 'directory': 66,\n",
       " 'path': 'nutcha/DSI310-11/rawData/ข่าวยาเสพติด2561-2563.csv'}"
      ]
     },
     "execution_count": 29,
     "metadata": {},
     "output_type": "execute_result"
    }
   ],
   "source": [
    "meta, fp = datanode.get_file(datanode.get_file_id(directory_id=dir_raw_id, name='ข่าวยาเสพติด2561-2563.csv'))\n",
    "meta"
   ]
  },
  {
   "cell_type": "code",
   "execution_count": 30,
   "id": "e47425c1-fd9d-48e8-982b-6fbb2f52fb24",
   "metadata": {},
   "outputs": [
    {
     "data": {
      "text/html": [
       "<div>\n",
       "<style scoped>\n",
       "    .dataframe tbody tr th:only-of-type {\n",
       "        vertical-align: middle;\n",
       "    }\n",
       "\n",
       "    .dataframe tbody tr th {\n",
       "        vertical-align: top;\n",
       "    }\n",
       "\n",
       "    .dataframe thead th {\n",
       "        text-align: right;\n",
       "    }\n",
       "</style>\n",
       "<table border=\"1\" class=\"dataframe\">\n",
       "  <thead>\n",
       "    <tr style=\"text-align: right;\">\n",
       "      <th></th>\n",
       "      <th>Unnamed: 0</th>\n",
       "      <th>Topic</th>\n",
       "      <th>Description</th>\n",
       "      <th>Date</th>\n",
       "      <th>Unnamed: 4</th>\n",
       "    </tr>\n",
       "  </thead>\n",
       "  <tbody>\n",
       "    <tr>\n",
       "      <th>0</th>\n",
       "      <td>0</td>\n",
       "      <td>มาร์คัส แรชฟอร์ด จากวันที่ไม่มีขนมปังสักก้อน ส...</td>\n",
       "      <td>ในขวบปีที่มืดมนอนธการของมนุษยชาติ หนึ่งในประกา...</td>\n",
       "      <td>22/12/2020</td>\n",
       "      <td>NaN</td>\n",
       "    </tr>\n",
       "    <tr>\n",
       "      <th>1</th>\n",
       "      <td>1</td>\n",
       "      <td>ตั๊น จิตภัสร์ ประชาธิปัตย์ นำทีม กมธ. ตำรวจ ลง...</td>\n",
       "      <td>วานนี้ (18 ธันวาคม) จิตภัสร์ ตั๊น กฤดากร ส.ส. ...</td>\n",
       "      <td>19/12/2020</td>\n",
       "      <td>NaN</td>\n",
       "    </tr>\n",
       "    <tr>\n",
       "      <th>2</th>\n",
       "      <td>2</td>\n",
       "      <td>พบเรือปริศนาขนโคเคนล็อตใหญ่ถูกพัดขึ้นฝั่งหมู่เ...</td>\n",
       "      <td>สัปดาห์ที่แล้ว ชาวบ้านรายหนึ่งที่อาศัยอยู่ในบร...</td>\n",
       "      <td>17/12/2020</td>\n",
       "      <td>NaN</td>\n",
       "    </tr>\n",
       "    <tr>\n",
       "      <th>3</th>\n",
       "      <td>3</td>\n",
       "      <td>สมศักดิ์เชื่อ กระบวนการปลดล็อกกระท่อมอีก 6 เดื...</td>\n",
       "      <td>วันนี้ (1 ธันวาคม) สมศักดิ์ เทพสุทิน รัฐมนตรีว...</td>\n",
       "      <td>1/12/2020</td>\n",
       "      <td>NaN</td>\n",
       "    </tr>\n",
       "    <tr>\n",
       "      <th>4</th>\n",
       "      <td>4</td>\n",
       "      <td>ทางการฝรั่งเศสสั่งพักงานเจ้าหน้าที่ตำรวจที่รุม...</td>\n",
       "      <td>วันนี้ (27 พฤศจิกายน) เจอฮัลด์ ดาร์มานอง รัฐมน...</td>\n",
       "      <td>27/11/2020</td>\n",
       "      <td>NaN</td>\n",
       "    </tr>\n",
       "    <tr>\n",
       "      <th>...</th>\n",
       "      <td>...</td>\n",
       "      <td>...</td>\n",
       "      <td>...</td>\n",
       "      <td>...</td>\n",
       "      <td>...</td>\n",
       "    </tr>\n",
       "    <tr>\n",
       "      <th>458</th>\n",
       "      <td>452</td>\n",
       "      <td>เปิดกล่องไปรษณีย์ที่มีระเบิด ปืน และยาบ้า ทำไม...</td>\n",
       "      <td>29 พฤษภาคมที่ผ่านมา ตำรวจสายตรวจและปฏิบัต...</td>\n",
       "      <td>7/06/2017</td>\n",
       "      <td>NaN</td>\n",
       "    </tr>\n",
       "    <tr>\n",
       "      <th>459</th>\n",
       "      <td>453</td>\n",
       "      <td>23 ปี Trainspotting ถึง T2 ทำไมหนังวัยรุ่นขี้ย...</td>\n",
       "      <td>T2 Trainspotting เข้าฉายแล้วเฉพาะที่เฮ้าส์ อาร...</td>\n",
       "      <td>6/06/2017</td>\n",
       "      <td>NaN</td>\n",
       "    </tr>\n",
       "    <tr>\n",
       "      <th>460</th>\n",
       "      <td>454</td>\n",
       "      <td>กรณีศึกษาของข่าว ‘เปรี้ยว’ เหตุใดผู้ต้องหาถึงก...</td>\n",
       "      <td>นาทีนี้คงไม่มีข่าวใดแย่งพื้นที่สื่อไปได้ม...</td>\n",
       "      <td>5/06/2017</td>\n",
       "      <td>NaN</td>\n",
       "    </tr>\n",
       "    <tr>\n",
       "      <th>461</th>\n",
       "      <td>455</td>\n",
       "      <td>คุยกับครอบครัว ‘พูนพิริยะ’ เลี้ยงลูกอย่างไรให้...</td>\n",
       "      <td>ถ้าใครชอบดูหนังที่มีพล็อตหรือฉากหลังเกี่ย...</td>\n",
       "      <td>5/06/2017</td>\n",
       "      <td>NaN</td>\n",
       "    </tr>\n",
       "    <tr>\n",
       "      <th>462</th>\n",
       "      <td>456</td>\n",
       "      <td>ป้อน ‘ยาขม’ ให้รัฐบาลเพื่อก้าวสู่ไทยแลนด์ 4.0 ...</td>\n",
       "      <td>นโยบายไทยแลนด์ 4.0 ยังคงเป็นที่วิพากษ์วิจ...</td>\n",
       "      <td>5/06/2017</td>\n",
       "      <td>NaN</td>\n",
       "    </tr>\n",
       "  </tbody>\n",
       "</table>\n",
       "<p>463 rows × 5 columns</p>\n",
       "</div>"
      ],
      "text/plain": [
       "    Unnamed: 0                                              Topic  \\\n",
       "0            0  มาร์คัส แรชฟอร์ด จากวันที่ไม่มีขนมปังสักก้อน ส...   \n",
       "1            1  ตั๊น จิตภัสร์ ประชาธิปัตย์ นำทีม กมธ. ตำรวจ ลง...   \n",
       "2            2  พบเรือปริศนาขนโคเคนล็อตใหญ่ถูกพัดขึ้นฝั่งหมู่เ...   \n",
       "3            3  สมศักดิ์เชื่อ กระบวนการปลดล็อกกระท่อมอีก 6 เดื...   \n",
       "4            4  ทางการฝรั่งเศสสั่งพักงานเจ้าหน้าที่ตำรวจที่รุม...   \n",
       "..         ...                                                ...   \n",
       "458        452  เปิดกล่องไปรษณีย์ที่มีระเบิด ปืน และยาบ้า ทำไม...   \n",
       "459        453  23 ปี Trainspotting ถึง T2 ทำไมหนังวัยรุ่นขี้ย...   \n",
       "460        454  กรณีศึกษาของข่าว ‘เปรี้ยว’ เหตุใดผู้ต้องหาถึงก...   \n",
       "461        455  คุยกับครอบครัว ‘พูนพิริยะ’ เลี้ยงลูกอย่างไรให้...   \n",
       "462        456  ป้อน ‘ยาขม’ ให้รัฐบาลเพื่อก้าวสู่ไทยแลนด์ 4.0 ...   \n",
       "\n",
       "                                           Description        Date  Unnamed: 4  \n",
       "0    ในขวบปีที่มืดมนอนธการของมนุษยชาติ หนึ่งในประกา...  22/12/2020         NaN  \n",
       "1    วานนี้ (18 ธันวาคม) จิตภัสร์ ตั๊น กฤดากร ส.ส. ...  19/12/2020         NaN  \n",
       "2    สัปดาห์ที่แล้ว ชาวบ้านรายหนึ่งที่อาศัยอยู่ในบร...  17/12/2020         NaN  \n",
       "3    วันนี้ (1 ธันวาคม) สมศักดิ์ เทพสุทิน รัฐมนตรีว...   1/12/2020         NaN  \n",
       "4    วันนี้ (27 พฤศจิกายน) เจอฮัลด์ ดาร์มานอง รัฐมน...  27/11/2020         NaN  \n",
       "..                                                 ...         ...         ...  \n",
       "458       29 พฤษภาคมที่ผ่านมา ตำรวจสายตรวจและปฏิบัต...   7/06/2017         NaN  \n",
       "459  T2 Trainspotting เข้าฉายแล้วเฉพาะที่เฮ้าส์ อาร...   6/06/2017         NaN  \n",
       "460       นาทีนี้คงไม่มีข่าวใดแย่งพื้นที่สื่อไปได้ม...   5/06/2017         NaN  \n",
       "461       ถ้าใครชอบดูหนังที่มีพล็อตหรือฉากหลังเกี่ย...   5/06/2017         NaN  \n",
       "462       นโยบายไทยแลนด์ 4.0 ยังคงเป็นที่วิพากษ์วิจ...   5/06/2017         NaN  \n",
       "\n",
       "[463 rows x 5 columns]"
      ]
     },
     "execution_count": 30,
     "metadata": {},
     "output_type": "execute_result"
    }
   ],
   "source": [
    "data = pd.read_csv('ข่าวยาเสพติด2561-2563.csv')\n",
    "data"
   ]
  },
  {
   "cell_type": "code",
   "execution_count": 43,
   "id": "e6ecc98e-7ce7-4efc-be24-584e71964438",
   "metadata": {},
   "outputs": [],
   "source": [
    "data = data.drop(['Unnamed: 0','Unnamed: 4'], axis=1)"
   ]
  },
  {
   "cell_type": "code",
   "execution_count": 44,
   "id": "7f7a23ad-524e-4031-acb4-b0519abfa81a",
   "metadata": {},
   "outputs": [
    {
     "data": {
      "text/html": [
       "<div>\n",
       "<style scoped>\n",
       "    .dataframe tbody tr th:only-of-type {\n",
       "        vertical-align: middle;\n",
       "    }\n",
       "\n",
       "    .dataframe tbody tr th {\n",
       "        vertical-align: top;\n",
       "    }\n",
       "\n",
       "    .dataframe thead th {\n",
       "        text-align: right;\n",
       "    }\n",
       "</style>\n",
       "<table border=\"1\" class=\"dataframe\">\n",
       "  <thead>\n",
       "    <tr style=\"text-align: right;\">\n",
       "      <th></th>\n",
       "      <th>Topic</th>\n",
       "      <th>Description</th>\n",
       "      <th>Date</th>\n",
       "    </tr>\n",
       "  </thead>\n",
       "  <tbody>\n",
       "    <tr>\n",
       "      <th>0</th>\n",
       "      <td>มาร์คัส แรชฟอร์ด จากวันที่ไม่มีขนมปังสักก้อน ส...</td>\n",
       "      <td>ในขวบปีที่มืดมนอนธการของมนุษยชาติ หนึ่งในประกา...</td>\n",
       "      <td>22/12/2020</td>\n",
       "    </tr>\n",
       "    <tr>\n",
       "      <th>1</th>\n",
       "      <td>ตั๊น จิตภัสร์ ประชาธิปัตย์ นำทีม กมธ. ตำรวจ ลง...</td>\n",
       "      <td>วานนี้ (18 ธันวาคม) จิตภัสร์ ตั๊น กฤดากร ส.ส. ...</td>\n",
       "      <td>19/12/2020</td>\n",
       "    </tr>\n",
       "    <tr>\n",
       "      <th>2</th>\n",
       "      <td>พบเรือปริศนาขนโคเคนล็อตใหญ่ถูกพัดขึ้นฝั่งหมู่เ...</td>\n",
       "      <td>สัปดาห์ที่แล้ว ชาวบ้านรายหนึ่งที่อาศัยอยู่ในบร...</td>\n",
       "      <td>17/12/2020</td>\n",
       "    </tr>\n",
       "    <tr>\n",
       "      <th>3</th>\n",
       "      <td>สมศักดิ์เชื่อ กระบวนการปลดล็อกกระท่อมอีก 6 เดื...</td>\n",
       "      <td>วันนี้ (1 ธันวาคม) สมศักดิ์ เทพสุทิน รัฐมนตรีว...</td>\n",
       "      <td>1/12/2020</td>\n",
       "    </tr>\n",
       "    <tr>\n",
       "      <th>4</th>\n",
       "      <td>ทางการฝรั่งเศสสั่งพักงานเจ้าหน้าที่ตำรวจที่รุม...</td>\n",
       "      <td>วันนี้ (27 พฤศจิกายน) เจอฮัลด์ ดาร์มานอง รัฐมน...</td>\n",
       "      <td>27/11/2020</td>\n",
       "    </tr>\n",
       "    <tr>\n",
       "      <th>...</th>\n",
       "      <td>...</td>\n",
       "      <td>...</td>\n",
       "      <td>...</td>\n",
       "    </tr>\n",
       "    <tr>\n",
       "      <th>458</th>\n",
       "      <td>เปิดกล่องไปรษณีย์ที่มีระเบิด ปืน และยาบ้า ทำไม...</td>\n",
       "      <td>29 พฤษภาคมที่ผ่านมา ตำรวจสายตรวจและปฏิบัต...</td>\n",
       "      <td>7/06/2017</td>\n",
       "    </tr>\n",
       "    <tr>\n",
       "      <th>459</th>\n",
       "      <td>23 ปี Trainspotting ถึง T2 ทำไมหนังวัยรุ่นขี้ย...</td>\n",
       "      <td>T2 Trainspotting เข้าฉายแล้วเฉพาะที่เฮ้าส์ อาร...</td>\n",
       "      <td>6/06/2017</td>\n",
       "    </tr>\n",
       "    <tr>\n",
       "      <th>460</th>\n",
       "      <td>กรณีศึกษาของข่าว ‘เปรี้ยว’ เหตุใดผู้ต้องหาถึงก...</td>\n",
       "      <td>นาทีนี้คงไม่มีข่าวใดแย่งพื้นที่สื่อไปได้ม...</td>\n",
       "      <td>5/06/2017</td>\n",
       "    </tr>\n",
       "    <tr>\n",
       "      <th>461</th>\n",
       "      <td>คุยกับครอบครัว ‘พูนพิริยะ’ เลี้ยงลูกอย่างไรให้...</td>\n",
       "      <td>ถ้าใครชอบดูหนังที่มีพล็อตหรือฉากหลังเกี่ย...</td>\n",
       "      <td>5/06/2017</td>\n",
       "    </tr>\n",
       "    <tr>\n",
       "      <th>462</th>\n",
       "      <td>ป้อน ‘ยาขม’ ให้รัฐบาลเพื่อก้าวสู่ไทยแลนด์ 4.0 ...</td>\n",
       "      <td>นโยบายไทยแลนด์ 4.0 ยังคงเป็นที่วิพากษ์วิจ...</td>\n",
       "      <td>5/06/2017</td>\n",
       "    </tr>\n",
       "  </tbody>\n",
       "</table>\n",
       "<p>463 rows × 3 columns</p>\n",
       "</div>"
      ],
      "text/plain": [
       "                                                 Topic  \\\n",
       "0    มาร์คัส แรชฟอร์ด จากวันที่ไม่มีขนมปังสักก้อน ส...   \n",
       "1    ตั๊น จิตภัสร์ ประชาธิปัตย์ นำทีม กมธ. ตำรวจ ลง...   \n",
       "2    พบเรือปริศนาขนโคเคนล็อตใหญ่ถูกพัดขึ้นฝั่งหมู่เ...   \n",
       "3    สมศักดิ์เชื่อ กระบวนการปลดล็อกกระท่อมอีก 6 เดื...   \n",
       "4    ทางการฝรั่งเศสสั่งพักงานเจ้าหน้าที่ตำรวจที่รุม...   \n",
       "..                                                 ...   \n",
       "458  เปิดกล่องไปรษณีย์ที่มีระเบิด ปืน และยาบ้า ทำไม...   \n",
       "459  23 ปี Trainspotting ถึง T2 ทำไมหนังวัยรุ่นขี้ย...   \n",
       "460  กรณีศึกษาของข่าว ‘เปรี้ยว’ เหตุใดผู้ต้องหาถึงก...   \n",
       "461  คุยกับครอบครัว ‘พูนพิริยะ’ เลี้ยงลูกอย่างไรให้...   \n",
       "462  ป้อน ‘ยาขม’ ให้รัฐบาลเพื่อก้าวสู่ไทยแลนด์ 4.0 ...   \n",
       "\n",
       "                                           Description        Date  \n",
       "0    ในขวบปีที่มืดมนอนธการของมนุษยชาติ หนึ่งในประกา...  22/12/2020  \n",
       "1    วานนี้ (18 ธันวาคม) จิตภัสร์ ตั๊น กฤดากร ส.ส. ...  19/12/2020  \n",
       "2    สัปดาห์ที่แล้ว ชาวบ้านรายหนึ่งที่อาศัยอยู่ในบร...  17/12/2020  \n",
       "3    วันนี้ (1 ธันวาคม) สมศักดิ์ เทพสุทิน รัฐมนตรีว...   1/12/2020  \n",
       "4    วันนี้ (27 พฤศจิกายน) เจอฮัลด์ ดาร์มานอง รัฐมน...  27/11/2020  \n",
       "..                                                 ...         ...  \n",
       "458       29 พฤษภาคมที่ผ่านมา ตำรวจสายตรวจและปฏิบัต...   7/06/2017  \n",
       "459  T2 Trainspotting เข้าฉายแล้วเฉพาะที่เฮ้าส์ อาร...   6/06/2017  \n",
       "460       นาทีนี้คงไม่มีข่าวใดแย่งพื้นที่สื่อไปได้ม...   5/06/2017  \n",
       "461       ถ้าใครชอบดูหนังที่มีพล็อตหรือฉากหลังเกี่ย...   5/06/2017  \n",
       "462       นโยบายไทยแลนด์ 4.0 ยังคงเป็นที่วิพากษ์วิจ...   5/06/2017  \n",
       "\n",
       "[463 rows x 3 columns]"
      ]
     },
     "execution_count": 44,
     "metadata": {},
     "output_type": "execute_result"
    }
   ],
   "source": [
    "data"
   ]
  },
  {
   "cell_type": "code",
   "execution_count": 45,
   "id": "0847f641-8000-475d-81ec-4798751da6b0",
   "metadata": {},
   "outputs": [
    {
     "data": {
      "text/plain": [
       "{'sucess': True,\n",
       " 'file_id': 794,\n",
       " 'path': 'nutcha/DSI310-11/processData/ข่าวยาเสพติดปี 2017-2020.parquet',\n",
       " 'lineage': True}"
      ]
     },
     "execution_count": 45,
     "metadata": {},
     "output_type": "execute_result"
    }
   ],
   "source": [
    "datanode.write(df=data, directory=dir_process_id, name=\"ข่าวยาเสพติดปี 2017-2020\", profiling=True, lineage=[datanode.get_file_id(directory_id=dir_raw_id, name='ข่าวยาเสพติด2561-2563.csv')])"
   ]
  },
  {
   "cell_type": "code",
   "execution_count": null,
   "id": "6e2b3f0c-619b-4f51-b185-ef1d5f6edb76",
   "metadata": {},
   "outputs": [],
   "source": []
  },
  {
   "cell_type": "code",
   "execution_count": null,
   "id": "cae1c5fd-e601-4bac-8abe-e23a481e022e",
   "metadata": {},
   "outputs": [],
   "source": []
  }
 ],
 "metadata": {
  "kernelspec": {
   "display_name": "Python 3 (ipykernel)",
   "language": "python",
   "name": "python3"
  },
  "language_info": {
   "codemirror_mode": {
    "name": "ipython",
    "version": 3
   },
   "file_extension": ".py",
   "mimetype": "text/x-python",
   "name": "python",
   "nbconvert_exporter": "python",
   "pygments_lexer": "ipython3",
   "version": "3.10.5"
  }
 },
 "nbformat": 4,
 "nbformat_minor": 5
}
